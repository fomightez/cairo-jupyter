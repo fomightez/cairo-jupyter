{
 "cells": [
  {
   "cell_type": "code",
   "execution_count": 1,
   "metadata": {},
   "outputs": [
    {
     "data": {
      "image/png": "[encoded data removed]",
      "text/plain": [
       "<IPython.core.display.Image object>"
      ]
     },
     "execution_count": 1,
     "metadata": {},
     "output_type": "execute_result"
    }
   ],
   "source": [
    "#! /usr/bin/env python\n",
    "# converting cairo_push_group () example code to python\n",
    "\n",
    "''' provided from http://www.cairographics.org/manual/cairo-cairo-t.html#cairo-push-group:\n",
    "\"\n",
    "This group functionality can be convenient for performing intermediate compositing.\n",
    "One common use of a group is to render objects as opaque within the group,\n",
    "(so that they occlude each other), and then blend the result with translucence onto the destination.\n",
    "...\n",
    "As an example, here is how one might fill and stroke a path with translucence,\n",
    "but without any portion of the fill being visible under the stroke:\"\n",
    "------------------------------------\n",
    "cairo_push_group (cr);\n",
    "cairo_set_source (cr, fill_pattern);\n",
    "cairo_fill_preserve (cr);\n",
    "cairo_set_source (cr, stroke_pattern);\n",
    "cairo_stroke (cr);\n",
    "cairo_pop_group_to_source (cr);\n",
    "cairo_paint_with_alpha (cr, alpha);\n",
    "------------------------------------\n",
    "\n",
    "As clarification, I think they mean \"but without any portion of the fill being\n",
    "differentially visible under the stroke\" because you can imagine if you\n",
    "designated the stroke translucent at the time it was made, it would look\n",
    "different in the regions where it was over the fill as opposed to the portions\n",
    "where it was not, i.e. the translucent stroke would be darker or lighter\n",
    "depending on what was underneath.\n",
    "\n",
    "'''\n",
    "\n",
    "\n",
    "'''\n",
    "Other components\n",
    "----------------\n",
    "#from http://www.tortall.net/mu/wiki/CairoTutorial\n",
    "\n",
    "cr.set_line_width(0.1)\n",
    "cr.set_source_rgb(0, 0, 0)\n",
    "cr.rectangle(0.25, 0.25, 0.5, 0.5)\n",
    "cr.stroke()\n",
    "\n",
    "\n",
    "cr.set_source_rgb(0, 0, 0)\n",
    "cr.rectangle(0.25, 0.25, 0.5, 0.5)\n",
    "cr.fill()\n",
    "\n",
    "'''\n",
    "\n",
    "\n",
    "\n",
    "import cairocffi as cairo\n",
    "\n",
    "surface = cairo.ImageSurface(cairo.FORMAT_ARGB32, 300, 300)\n",
    "cr = cairo.Context(surface)\n",
    "\n",
    "cr.push_group()\n",
    "cr.set_source_rgb(1, 0, 0)\n",
    "cr.rectangle(10, 10, 111, 111)\n",
    "cr.fill_preserve()\n",
    "cr.set_line_width(8.1)\n",
    "cr.set_source_rgb(0, 0, 1)\n",
    "cr.rectangle(10, 10, 111, 111)\n",
    "cr.stroke()\n",
    "cr.pop_group_to_source()\n",
    "cr.paint_with_alpha(0.25) # this is when the semi-transparency gets applied\n",
    "\n",
    "\n",
    "surface.write_to_png('push_group_example.png')\n",
    "\n",
    "# Use IPython.display Image function to show the resulting image\n",
    "from IPython.display import Image\n",
    "Image('push_group_example.png')"
   ]
  },
  {
   "cell_type": "code",
   "execution_count": null,
   "metadata": {},
   "outputs": [],
   "source": []
  }
 ],
 "metadata": {
  "kernelspec": {
   "display_name": "Python 3",
   "language": "python",
   "name": "python3"
  },
  "language_info": {
   "codemirror_mode": {
    "name": "ipython",
    "version": 3
   },
   "file_extension": ".py",
   "mimetype": "text/x-python",
   "name": "python",
   "nbconvert_exporter": "python",
   "pygments_lexer": "ipython3",
   "version": "3.5.3"
  }
 },
 "nbformat": 4,
 "nbformat_minor": 1
}
