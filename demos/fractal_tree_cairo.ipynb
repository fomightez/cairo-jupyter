{
 "cells": [
  {
   "cell_type": "code",
   "execution_count": 9,
   "metadata": {
    "collapsed": false
   },
   "outputs": [],
   "source": [
    "import cairo\n",
    "from contextlib import contextmanager\n",
    "\n",
    "@contextmanager\n",
    "def saved(cr):\n",
    "    cr.save()\n",
    "    try:\n",
    "        yield cr\n",
    "    finally:\n",
    "        cr.restore()\n",
    "\n",
    "def Tree(angle):\n",
    "    cr.move_to(0, 0)\n",
    "    cr.translate(0, -65)\n",
    "    cr.line_to(0, 0)\n",
    "    cr.stroke()\n",
    "    cr.scale(0.72, 0.72)\n",
    "    if angle > 0.12:\n",
    "        for a in [-angle, angle]:\n",
    "            with saved(cr):\n",
    "                cr.rotate(a)\n",
    "                Tree(angle * 0.75)\n",
    "\n",
    "surf = cairo.ImageSurface(cairo.FORMAT_ARGB32, 280, 204)\n",
    "cr = cairo.Context(surf)\n",
    "cr.translate(140, 203)\n",
    "cr.set_line_width(5)\n",
    "Tree(0.75)\n",
    "surf.write_to_png('example2.png')\n",
    "# fractal tree example above from http://preshing.com/20110920/the-python-with-statement-by-example/"
   ]
  },
  {
   "cell_type": "markdown",
   "metadata": {
    "collapsed": false
   },
   "source": [
    "![title](example2.png)"
   ]
  },
  {
   "cell_type": "code",
   "execution_count": 10,
   "metadata": {
    "collapsed": true
   },
   "outputs": [],
   "source": [
    "# above from http://stackoverflow.com/questions/32370281/how-to-include-image-or-picture-in-jupyter-notebook"
   ]
  },
  {
   "cell_type": "markdown",
   "metadata": {},
   "source": [
    "To get image to generate properly on the cell two above the first time running this notebook\n",
    "- Run all cells (`CTRL M,R` according to [here](https://github.com/ipython/ipython/issues/4040), but this didn't work on Mac in 2016 and I used menu button)\n",
    "- Reload browser window to see updated code with updated image displayed.\n"
   ]
  },
  {
   "cell_type": "code",
   "execution_count": null,
   "metadata": {
    "collapsed": true
   },
   "outputs": [],
   "source": [
    " "
   ]
  },
  {
   "cell_type": "markdown",
   "metadata": {
    "collapsed": false
   },
   "source": [
    "Process to change code and update image\n",
    "- Change code\n",
    "- Save notebook with changes to code\n",
    "- Run all cells (`CTRL M,R` according to [here](https://github.com/ipython/ipython/issues/4040))\n",
    "- Reload browser window to see updated code with updated image displayed.\n",
    "\n",
    "Note though you cannot `undo` with this approach, and so maybe best to copy to new cell and then edit working code."
   ]
  },
  {
   "cell_type": "code",
   "execution_count": null,
   "metadata": {
    "collapsed": true
   },
   "outputs": [],
   "source": []
  }
 ],
 "metadata": {
  "kernelspec": {
   "display_name": "Python 2",
   "language": "python",
   "name": "python2"
  },
  "language_info": {
   "codemirror_mode": {
    "name": "ipython",
    "version": 2
   },
   "file_extension": ".py",
   "mimetype": "text/x-python",
   "name": "python",
   "nbconvert_exporter": "python",
   "pygments_lexer": "ipython2",
   "version": "2.7.11"
  }
 },
 "nbformat": 4,
 "nbformat_minor": 0
}
