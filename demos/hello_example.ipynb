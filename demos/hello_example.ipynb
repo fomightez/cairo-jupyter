{
 "cells": [
  {
   "cell_type": "code",
   "execution_count": null,
   "metadata": {
    "collapsed": false
   },
   "outputs": [],
   "source": [
    "import cairo \n",
    "\n",
    "#everything below adapted from http://pythonhosted.org/cairocffi/overview.html#basic-usage\n",
    "surface = cairo.ImageSurface(cairo.FORMAT_RGB24, 300, 200)\n",
    "context = cairo.Context(surface)\n",
    "context.set_source_rgb(1, 1, 1)  # White\n",
    "context.paint()\n",
    "# Restore the default source which is black.\n",
    "context.set_source_rgb(0, 0, 0)  # Black\n",
    "context.move_to(90, 140)\n",
    "context.rotate(-0.5)\n",
    "context.set_font_size(20)\n",
    "context.show_text(u'Hi from cairo!')\n",
    "surface.write_to_png('hello_example.png')"
   ]
  },
  {
   "cell_type": "markdown",
   "metadata": {
    "collapsed": false
   },
   "source": [
    "![run cells and reload to get image](hello_example.png)"
   ]
  },
  {
   "cell_type": "markdown",
   "metadata": {},
   "source": [
    "To get image to generate properly on the above cell the first time running this notebook\n",
    "- Run all cells (`CTRL M`, `CTRL R` according to [here](https://github.com/ipython/ipython/issues/4040))\n",
    "- Reload browser window to see updated code with updated image displayed."
   ]
  },
  {
   "cell_type": "markdown",
   "metadata": {},
   "source": [
    " "
   ]
  },
  {
   "cell_type": "markdown",
   "metadata": {},
   "source": [
    "Process to change code and update image\n",
    "- Change code\n",
    "- Save notebook with changes to code\n",
    "- Run all cells (`CTRL M`, `CTRL R` according to [here](https://github.com/ipython/ipython/issues/4040)\n",
    "- Reload browser window to see updated code with updated image displayed.\n",
    "\n",
    "On Mac in Chrome in 2016 the series of keyboard shortcuts that equates to is `cmd-s`, `CTRL m`, then `CTRL r`, and finally `cmd-r`  \n",
    "\n",
    "On a mobile device use the file menu or button that looks like a disk to save the current version, then choose `kernel` > `restart & run all`, and finally reload the webpage.  \n",
    "\n",
    "Note though you cannot `undo` with this approach, and so maybe best to copy to new cell and then edit working code."
   ]
  },
  {
   "cell_type": "code",
   "execution_count": null,
   "metadata": {
    "collapsed": true
   },
   "outputs": [],
   "source": []
  }
 ],
 "metadata": {
  "kernelspec": {
   "display_name": "Python 2",
   "language": "python",
   "name": "python2"
  },
  "language_info": {
   "codemirror_mode": {
    "name": "ipython",
    "version": 2
   },
   "file_extension": ".py",
   "mimetype": "text/x-python",
   "name": "python",
   "nbconvert_exporter": "python",
   "pygments_lexer": "ipython2",
   "version": "2.7.11"
  }
 },
 "nbformat": 4,
 "nbformat_minor": 0
}
