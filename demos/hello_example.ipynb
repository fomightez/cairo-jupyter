{
 "cells": [
  {
   "cell_type": "code",
   "execution_count": null,
   "metadata": {
    "collapsed": false
   },
   "outputs": [],
   "source": [
    "import cairo\n",
    "\n",
    "# contextmanager and use of `with` adapted from http://preshing.com/20110920/the-python-with-statement-by-example/\n",
    "# more on use of `with` at http://preshing.com/20110920/the-python-with-statement-by-example/]\n",
    "# Apparently the version of pycairo that gets imported by mybinder.org doesn't support it by default. `cairocffi` does support it by default, but I was unable to get `cairocffi` to import even trying with `requiremnts.txt`. With `cairocffi` the with statement would be `with context:` as it is at http://pythonhosted.org/cairocffi/overview.html#basic-usage\n",
    "from contextlib import contextmanager\n",
    "\n",
    "@contextmanager\n",
    "def saved(cr):\n",
    "    cr.save()\n",
    "    try:\n",
    "        yield cr\n",
    "    finally:\n",
    "        cr.restore()\n",
    "\n",
    "#everything below adapted from http://pythonhosted.org/cairocffi/overview.html#basic-usage\n",
    "surface = cairo.ImageSurface(cairo.FORMAT_RGB24, 300, 200)\n",
    "context = cairo.Context(surface)\n",
    "with saved(context):\n",
    "    context.set_source_rgb(1, 1, 1)  # White\n",
    "    context.paint()\n",
    "# Restore the default source which is black.\n",
    "context.move_to(90, 140)\n",
    "context.rotate(-0.5)\n",
    "context.set_font_size(20)\n",
    "context.show_text(u'Hi from cairo!')\n",
    "surface.write_to_png('hello_example.png')"
   ]
  },
  {
   "cell_type": "markdown",
   "metadata": {
    "collapsed": false
   },
   "source": [
    "![run cells and reload to get image](hello_example.png)"
   ]
  },
  {
   "cell_type": "markdown",
   "metadata": {},
   "source": [
    "To get image to generate properly on the above cell the first time running this notebook\n",
    "- Run all cells (`Cell` menu > `Run all` or type `CTRL M`, `CTRL R` according to [here](https://github.com/ipython/ipython/issues/4040))\n",
    "- Reload browser window to see updated code with updated image displayed."
   ]
  },
  {
   "cell_type": "markdown",
   "metadata": {},
   "source": [
    " "
   ]
  },
  {
   "cell_type": "markdown",
   "metadata": {},
   "source": [
    "Process to change code and update image\n",
    "- Change code\n",
    "- Save notebook with changes to code\n",
    "- Run all cells (`Cell` menu > `Run all` or type `CTRL M`, `CTRL R` according to [here](https://github.com/ipython/ipython/issues/4040))\n",
    "- Reload browser window to see updated code with updated image displayed.\n",
    "\n",
    "On Mac in Chrome in 2016 the series of keyboard shortcuts that equates to is `cmd-s`, `CTRL m`, then `CTRL r`, and finally `cmd-r`  \n",
    "\n",
    "Depending on the Jupyter verion, after you use the file menu or button that looks like a disk to save the current version, you either select `Run all` from the `Cell` menu or you may have an option to choose `restart & run all` from the `Kernel` menu, and then finally reload the webpage. This multi-step process works even on mobile devices.  \n",
    "\n",
    "Note though you cannot `undo` with this approach, and so maybe best to copy to new cell and then edit working code."
   ]
  },
  {
   "cell_type": "code",
   "execution_count": null,
   "metadata": {
    "collapsed": true
   },
   "outputs": [],
   "source": []
  }
 ],
 "metadata": {
  "kernelspec": {
   "display_name": "Python 2",
   "language": "python",
   "name": "python2"
  },
  "language_info": {
   "codemirror_mode": {
    "name": "ipython",
    "version": 2
   },
   "file_extension": ".py",
   "mimetype": "text/x-python",
   "name": "python",
   "nbconvert_exporter": "python",
   "pygments_lexer": "ipython2",
   "version": "2.7.11"
  }
 },
 "nbformat": 4,
 "nbformat_minor": 0
}
