{
 "cells": [
  {
   "cell_type": "code",
   "execution_count": 2,
   "metadata": {},
   "outputs": [
    {
     "data": {
      "image/png": "[encoded data removed]",
      "text/plain": [
       "<IPython.core.display.Image object>"
      ]
     },
     "execution_count": 2,
     "metadata": {},
     "output_type": "execute_result"
    }
   ],
   "source": [
    "import cairocffi as cairo\n",
    "\n",
    "# contextmanager and use of `with` adapted from http://preshing.com/20110920/the-python-with-statement-by-example/\n",
    "# more on use of `with` at http://preshing.com/20110920/the-python-with-statement-by-example/]\n",
    "# Apparently the version of pycairo that gets imported by mybinder.org doesn't support it by default. `cairocffi` does support it by default, but I was unable to get `cairocffi` to import even trying with `requiremnts.txt`. With `cairocffi` the with statement would be `with context:` as it is at http://pythonhosted.org/cairocffi/overview.html#basic-usage\n",
    "from contextlib import contextmanager\n",
    "\n",
    "@contextmanager\n",
    "def saved(cr):\n",
    "    cr.save()\n",
    "    try:\n",
    "        yield cr\n",
    "    finally:\n",
    "        cr.restore()\n",
    "\n",
    "#everything below adapted from http://pythonhosted.org/cairocffi/overview.html#basic-usage\n",
    "surface = cairo.ImageSurface(cairo.FORMAT_RGB24, 300, 200)\n",
    "context = cairo.Context(surface)\n",
    "with saved(context):\n",
    "    context.set_source_rgb(1, 1, 1)  # White\n",
    "    context.paint()\n",
    "# Restore the default source which is black.\n",
    "context.move_to(90, 140)\n",
    "context.rotate(-0.5)\n",
    "context.set_font_size(20)\n",
    "context.show_text(u'Hi from cairo!')\n",
    "surface.write_to_png('hello_example.png')\n",
    "\n",
    "# fractal tree example above from http://preshing.com/20110920/the-python-with-statement-by-example/\n",
    "\n",
    "# Use IPython.display Image function to show the resulting image\n",
    "from IPython.display import Image\n",
    "Image('hello_example.png')"
   ]
  }
 ],
 "metadata": {
  "kernelspec": {
   "display_name": "Python 3",
   "language": "python",
   "name": "python3"
  },
  "language_info": {
   "codemirror_mode": {
    "name": "ipython",
    "version": 3
   },
   "file_extension": ".py",
   "mimetype": "text/x-python",
   "name": "python",
   "nbconvert_exporter": "python",
   "pygments_lexer": "ipython3",
   "version": "3.5.3"
  }
 },
 "nbformat": 4,
 "nbformat_minor": 1
}
