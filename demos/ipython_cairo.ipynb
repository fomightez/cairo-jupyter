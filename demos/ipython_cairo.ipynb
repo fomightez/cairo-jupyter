{
 "cells": [
  {
   "cell_type": "code",
   "execution_count": 1,
   "metadata": {},
   "outputs": [
    {
     "data": {
      "image/png": "[encoded data removed]",
      "text/plain": [
       "<IPython.core.display.Image object>"
      ]
     },
     "execution_count": 1,
     "metadata": {},
     "output_type": "execute_result"
    }
   ],
   "source": [
    "# Example cairo code.\n",
    "import cairocffi as cairo\n",
    "\n",
    "width, height = 100, 50\n",
    "\n",
    "\n",
    "surface = cairo.ImageSurface(cairo.FORMAT_ARGB32, width, height)\n",
    "\n",
    "cr = cairo.Context(surface)\n",
    "cr.set_source_rgb(0.7, 0.9, 0.0)\n",
    "cr.rotate(-45)\n",
    "cr.rectangle(0, 0, 40, 40)\n",
    "cr.fill()\n",
    "\n",
    "surface.write_to_png('example1.png')\n",
    "\n",
    "# example above from http://nbviewer.jupyter.org/gist/stuaxo/0f4e1ee9b603c3bc5a6c\n",
    "\n",
    "# Use IPython.display Image function to show the resulting image\n",
    "from IPython.display import Image\n",
    "Image('example1.png')"
   ]
  },
  {
   "cell_type": "code",
   "execution_count": null,
   "metadata": {},
   "outputs": [],
   "source": []
  }
 ],
 "metadata": {
  "kernelspec": {
   "display_name": "Python 3",
   "language": "python",
   "name": "python3"
  },
  "language_info": {
   "codemirror_mode": {
    "name": "ipython",
    "version": 3
   },
   "file_extension": ".py",
   "mimetype": "text/x-python",
   "name": "python",
   "nbconvert_exporter": "python",
   "pygments_lexer": "ipython3",
   "version": "3.5.3"
  }
 },
 "nbformat": 4,
 "nbformat_minor": 1
}
