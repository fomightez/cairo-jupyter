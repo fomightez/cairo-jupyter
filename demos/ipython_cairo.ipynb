{
 "cells": [
  {
   "cell_type": "code",
   "execution_count": null,
   "metadata": {
    "collapsed": false
   },
   "outputs": [],
   "source": [
    "# Example cairo code.\n",
    "import cairo\n",
    "\n",
    "width, height = 100, 50\n",
    "\n",
    "\n",
    "surface = cairo.ImageSurface(cairo.FORMAT_ARGB32, width, height)\n",
    "\n",
    "cr = cairo.Context(surface)\n",
    "cr.set_source_rgb(0.7, 0.9, 0.0)\n",
    "cr.rotate(-45)\n",
    "cr.rectangle(0, 0, 40, 40)\n",
    "cr.fill()\n",
    "\n",
    "surface.write_to_png('example1.png')\n",
    "\n",
    "# example above from http://nbviewer.jupyter.org/gist/stuaxo/0f4e1ee9b603c3bc5a6c"
   ]
  },
  {
   "cell_type": "markdown",
   "metadata": {
    "collapsed": false
   },
   "source": [
    "![title](example1.png)"
   ]
  },
  {
   "cell_type": "markdown",
   "metadata": {},
   "source": [
    "Process to change code and update image\n",
    "- Change code\n",
    "- Save notebook with changes to code\n",
    "- Run all cells (`CTRL M,R` according to [here](https://github.com/ipython/ipython/issues/4040))\n",
    "- Reload browser window to see updated code with updated image displayed.\n",
    "\n",
    "Note though you cannot `undo` with this approach, and so maybe best to copy to new cell and then edit working code."
   ]
  },
  {
   "cell_type": "code",
   "execution_count": null,
   "metadata": {
    "collapsed": true
   },
   "outputs": [],
   "source": []
  }
 ],
 "metadata": {
  "kernelspec": {
   "display_name": "Python 2",
   "language": "python",
   "name": "python2"
  },
  "language_info": {
   "codemirror_mode": {
    "name": "ipython",
    "version": 2
   },
   "file_extension": ".py",
   "mimetype": "text/x-python",
   "name": "python",
   "nbconvert_exporter": "python",
   "pygments_lexer": "ipython2",
   "version": "2.7.11"
  }
 },
 "nbformat": 4,
 "nbformat_minor": 0
}
