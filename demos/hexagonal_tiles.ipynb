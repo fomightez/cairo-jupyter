{
 "cells": [
  {
   "cell_type": "code",
   "execution_count": 1,
   "metadata": {
    "collapsed": false
   },
   "outputs": [],
   "source": [
    "import cairo\n",
    "import math\n",
    "\n",
    "#everything below from http://www.pritschet.me/wiki/python/example-scripts-python/2d-graphics-cairo/\n",
    "#but order needed adjusting because width and height and D used before called\n",
    "# in way it was on page. Plus I added a comment about `side_fields`\n",
    "# MAKES A 'six players chess board with hexagonal tiles' ACCORDING TO SITE.\n",
    "\n",
    "D = 33\n",
    "# diameter of hexagon in pixels\n",
    "shift_x = (math.sqrt(3)*D/2., 0)\n",
    "# vectorial distance to next hexagon in row\n",
    "shift_y = (math.sqrt(3)*D/4., 3*D/4.)\n",
    "# vectorial distance to hexagon in next row\n",
    "side_fields = 7   #This is the number of the colored hexagons that make\n",
    "# up the overall board that is actually hexagon comprised of small, colored ones\n",
    "# number of fields along each side. Changing the vaue to 33 makes a lot of tiny\n",
    "# heaxagons on each side of the board.\n",
    "width = int((2*side_fields-1)*math.sqrt(3)*D/2.+3*D/4.)+1\n",
    "# with of surface plus some border in pixels\n",
    "height = int((2*side_fields-1)*3*D/4.+2*D)+1\n",
    "# with of surface plus some border in pixels\n",
    "\n",
    "surface = cairo.ImageSurface (cairo.FORMAT_ARGB32, width, height)\n",
    "ctx = cairo.Context (surface)\n",
    "\n",
    "ctx.set_source_rgb(1,1,1)\n",
    "ctx.rectangle(0,0,width,height)\n",
    "ctx.fill()\n",
    "\n",
    "field_colors = ((1,1,1), (0,0,0), (1,0,0))\n",
    "p = (\n",
    "    (math.sqrt(3)*D/4., D/4.),\n",
    "    (0, D/2.),\n",
    "    (-math.sqrt(3)*D/4., D/4.),\n",
    "    (-math.sqrt(3)*D/4., -D/4.),\n",
    "    (0, -D/2.),\n",
    "    (math.sqrt(3)*D/4.,-D/4.)\n",
    ")\n",
    "\n",
    "def hexagon(ctx,color):\n",
    "    for pair in p:\n",
    "        ctx.line_to(pair[0],pair[1])\n",
    "    ctx.close_path()\n",
    "    ctx.set_source_rgb(0,0,0)\n",
    "    ctx.stroke_preserve()\n",
    "    ctx.set_source_rgb(*field_colors[color%3])  #<--- Note the `*` in front of `field_colors[color%3]` is used to unpack as described in  Lorin Hochstein's answer at http://stackoverflow.com/questions/36901/what-does-double-star-and-star-do-for-python-parameters and in (b) in Karan Ahuja's answer there.\n",
    "    ctx.fill()\n",
    "\n",
    "\n",
    "\n",
    "\n",
    "fields_in_line = side_fields\n",
    "increment, decreasing = 1, 0\n",
    "ctx.translate((side_fields-1)*math.sqrt(3)*D/4.,D)\n",
    "for j in range(2*side_fields-1):\n",
    "\tif fields_in_line > 2*side_fields-2:\n",
    "\t\tincrement = -1\n",
    "\tfor i in range(fields_in_line):\n",
    "\t\tctx.translate(shift_x[0],shift_x[1])\n",
    "\t\thexagon(ctx,i+j+decreasing)\n",
    "\tctx.translate(-fields_in_line*shift_x[0],-fields_in_line*shift_x[1])\n",
    "\tctx.translate(-increment*shift_y[0],shift_y[1])\n",
    "\tif increment == -1:\n",
    "\t\tdecreasing += 1\n",
    "\tfields_in_line += increment\n",
    "surface.write_to_png('hexach.png')\n",
    "\n"
   ]
  },
  {
   "cell_type": "markdown",
   "metadata": {},
   "source": [
    "![run cells and reload to get image](hexach.png)"
   ]
  },
  {
   "cell_type": "markdown",
   "metadata": {},
   "source": [
    "To get image to generate properly on the above cell the first time running this notebook\n",
    "- Run all cells (`Cell` menu > `Run all` or type `CTRL M`, `CTRL R` according to [here](https://github.com/ipython/ipython/issues/4040))\n",
    "- Reload browser window to see updated code with updated image displayed."
   ]
  },
  {
   "cell_type": "code",
   "execution_count": null,
   "metadata": {
    "collapsed": true
   },
   "outputs": [],
   "source": []
  },
  {
   "cell_type": "markdown",
   "metadata": {
    "collapsed": true
   },
   "source": [
    "Process to change code and update image\n",
    "- Change code\n",
    "- Save notebook with changes to code\n",
    "- Run all cells (`Cell` menu > `Run all` or type `CTRL M`, `CTRL R` according to [here](https://github.com/ipython/ipython/issues/4040))\n",
    "- Reload browser window to see updated code with updated image displayed.\n",
    "\n",
    "On Mac in Chrome in 2016 the series of keyboard shortcuts that equates to is `cmd-s`, `CTRL m`, then `CTRL r`, and finally `cmd-r`  \n",
    "\n",
    "Depending on the Jupyter verion, after you use the file menu or button that looks like a disk to save the current version, you either select `Run all` from the `Cell` menu or you may have an option to choose `restart & run all` from the `Kernel` menu, and then finally reload the webpage. This multi-step process works even on mobile devices.  \n",
    "\n",
    "Note though you cannot `undo` with this approach, and so maybe best to copy to new cell and then edit working code."
   ]
  },
  {
   "cell_type": "code",
   "execution_count": null,
   "metadata": {
    "collapsed": true
   },
   "outputs": [],
   "source": []
  }
 ],
 "metadata": {
  "kernelspec": {
   "display_name": "Python 2",
   "language": "python",
   "name": "python2"
  },
  "language_info": {
   "codemirror_mode": {
    "name": "ipython",
    "version": 2
   },
   "file_extension": ".py",
   "mimetype": "text/x-python",
   "name": "python",
   "nbconvert_exporter": "python",
   "pygments_lexer": "ipython2",
   "version": "2.7.11"
  }
 },
 "nbformat": 4,
 "nbformat_minor": 0
}
