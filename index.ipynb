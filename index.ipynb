{
 "cells": [
  {
   "cell_type": "markdown",
   "metadata": {
    "collapsed": false
   },
   "source": [
    "### cairo-jupyter: cairo in a mybinder\n",
    "##### Trying to get cairo output to display in a jupyter notebook hosted via mybinder.org.\n",
    "\n",
    ">It would make developing cairo scripts much easier if could see result\n",
    "right in same active page of Jupyter notebook, much like https://github.com/stuaxo/ipython_cairo\n",
    "had done. But thus time in a manner that works in binders hosted by mybinder.org. This approach removes most of the technical barriers to using IPython and modules by bringing active programming to any modern browser and makes development on mobile devices even possible.\n",
    "\n",
    "##### Clink links to open example notebooks\n",
    "\n",
    "[example 1](demos/ipython_cairo.ipynb)\n",
    "\n",
    "[example 2](demos/fractal_tree_cairo.ipynb)\n",
    "\n",
    "-\n",
    "\n",
    "-\n",
    "\n",
    "-\n",
    "\n",
    "-\n",
    "\n",
    "-\n",
    "\n",
    "-\n",
    "\n",
    "-\n",
    "\n",
    "index file adapted from https://github.com/BruceSherwood/vpython-jupyter/blob/master/index.ipynb"
   ]
  },
  {
   "cell_type": "code",
   "execution_count": null,
   "metadata": {
    "collapsed": true
   },
   "outputs": [],
   "source": []
  },
  {
   "cell_type": "code",
   "execution_count": null,
   "metadata": {
    "collapsed": true
   },
   "outputs": [],
   "source": []
  }
 ],
 "metadata": {
  "kernelspec": {
   "display_name": "Python 3",
   "language": "python",
   "name": "python3"
  },
  "language_info": {
   "codemirror_mode": {
    "name": "ipython",
    "version": 3
   },
   "file_extension": ".py",
   "mimetype": "text/x-python",
   "name": "python",
   "nbconvert_exporter": "python",
   "pygments_lexer": "ipython3",
   "version": "3.5.1"
  }
 },
 "nbformat": 4,
 "nbformat_minor": 0
}
